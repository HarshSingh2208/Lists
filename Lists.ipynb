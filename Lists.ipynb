{
 "cells": [
  {
   "cell_type": "markdown",
   "id": "8838dd73",
   "metadata": {},
   "source": [
    "Swap Alternate"
   ]
  },
  {
   "cell_type": "code",
   "execution_count": 16,
   "id": "46d20dbe",
   "metadata": {},
   "outputs": [
    {
     "name": "stdout",
     "output_type": "stream",
     "text": [
      "1\n",
      "5\n",
      "1 2 3 4 5\n",
      "[2, 1, 4, 3, 5] \n"
     ]
    }
   ],
   "source": [
    "def swapAlternate(lip):\n",
    "    if len(lip)//2==0:\n",
    "        for i in range(0,len(lip),2):\n",
    "            lip[i],lip[i+1]=lip[i+1],lip[i]\n",
    "    else:\n",
    "        for i in range(0,len(lip)-1,2):\n",
    "            lip[i],lip[i+1]=lip[i+1],lip[i]\n",
    "        \n",
    "    print(lip,end=\" \")\n",
    "    print()\n",
    "\n",
    "        \n",
    "        \n",
    "loop_cycle=int(input())\n",
    "for i in range(0, loop_cycle):\n",
    "    faltu = input()\n",
    "    lip = [int(x) for x in input().split()]\n",
    "    swapAlternate(lip)"
   ]
  },
  {
   "cell_type": "markdown",
   "id": "891f81c0",
   "metadata": {},
   "source": [
    "Reverse List"
   ]
  },
  {
   "cell_type": "code",
   "execution_count": 19,
   "id": "c51917bf",
   "metadata": {},
   "outputs": [
    {
     "name": "stdout",
     "output_type": "stream",
     "text": [
      "[9, 8, 7, 6, 5] "
     ]
    }
   ],
   "source": [
    "def reverse(li):\n",
    "    if len(li)==0 or len(li)==1:\n",
    "        return\n",
    "    \n",
    "    start=0\n",
    "    end=len(li)-1\n",
    "    \n",
    "    while start<=end:\n",
    "        li[start],li[end]=li[end],li[start]\n",
    "        start=start+1\n",
    "        end=end-1\n",
    "        \n",
    "        \n",
    "li1=[1,2,3,4,5,6]\n",
    "li2=[5,6,7,8,9]\n",
    "reverse(li2)\n",
    "print(li2,end=\" \")"
   ]
  },
  {
   "cell_type": "code",
   "execution_count": 34,
   "id": "b06c7f6a",
   "metadata": {},
   "outputs": [
    {
     "name": "stdout",
     "output_type": "stream",
     "text": [
      "5\n",
      "7\n"
     ]
    }
   ],
   "source": [
    "def unique1(li,l):\n",
    "    for i in range(0,l):\n",
    "        flag=True\n",
    "        for j in range(i+1,l):\n",
    "            if(li[i]==li[j]):\n",
    "                flag=False\n",
    "                li[j]=-1\n",
    "                break\n",
    "        if(flag==True and li[i]!=-1):\n",
    "            print(li[i])\n",
    "\n",
    "\n",
    "li1=[1,1,2,2,4,4,5,6,6,7]\n",
    "unique1(li1,len(li1))\n",
    "   \n"
   ]
  },
  {
   "cell_type": "code",
   "execution_count": 46,
   "id": "b859f21b",
   "metadata": {},
   "outputs": [
    {
     "name": "stdout",
     "output_type": "stream",
     "text": [
      "5\n",
      "8\n"
     ]
    }
   ],
   "source": [
    "def duplicate(li):\n",
    "    for i in range(len(li)):\n",
    "        for j in range(i+1,len(li)):\n",
    "            if li[i]==li[j]:\n",
    "                print(li[i])\n",
    "                break\n",
    "        \n",
    "\n",
    "        \n",
    "li=[1,2,3,4,5,5,6,7,8,8]\n",
    "duplicate(li)"
   ]
  },
  {
   "cell_type": "markdown",
   "id": "1f8a8d86",
   "metadata": {},
   "source": [
    "Array Intersection"
   ]
  },
  {
   "cell_type": "code",
   "execution_count": 51,
   "id": "c5469bba",
   "metadata": {},
   "outputs": [
    {
     "name": "stdout",
     "output_type": "stream",
     "text": [
      "1 2 4 5 6 7 "
     ]
    }
   ],
   "source": [
    "def Intersection(l1,l2):\n",
    "    for x in range(len(l1)):\n",
    "        for j in range(len(l2)):\n",
    "            if l1[x]==l2[j]:\n",
    "                print(l1[x],end=\" \")\n",
    "                l2[j]=-1\n",
    "                \n",
    "                \n",
    "li1=[1,2,3,4,5,5,6,7,8,8]  \n",
    "li2=[1,2,9,4,5,11,6,7,18,28]\n",
    "Intersection(li1,li2)\n"
   ]
  },
  {
   "cell_type": "markdown",
   "id": "8a08b439",
   "metadata": {},
   "source": [
    "Pair Sum"
   ]
  },
  {
   "cell_type": "code",
   "execution_count": 54,
   "id": "cb94b765",
   "metadata": {},
   "outputs": [
    {
     "name": "stdout",
     "output_type": "stream",
     "text": [
      "5\n"
     ]
    }
   ],
   "source": [
    "def PairSum(l1,find):\n",
    "    count=0\n",
    "    for x in range(0,(len(l1)-1)):\n",
    "        for j in range(x+1,len(l1)):\n",
    "            if l1[x]+l1[j]==find:\n",
    "                count=count+1\n",
    "    return count\n",
    "\n",
    "                \n",
    "                \n",
    "li1=[1,2,3,4,5,5,6,7,8,8]  \n",
    "count=PairSum(li1,10)\n",
    "print(count)"
   ]
  },
  {
   "cell_type": "markdown",
   "id": "c8bd6759",
   "metadata": {},
   "source": [
    "Triplet Sum"
   ]
  },
  {
   "cell_type": "code",
   "execution_count": 56,
   "id": "e2ad4c5e",
   "metadata": {},
   "outputs": [
    {
     "name": "stdout",
     "output_type": "stream",
     "text": [
      "6\n"
     ]
    }
   ],
   "source": [
    "def TripletSum(l1,find):\n",
    "    count=0\n",
    "    for x in range(0,(len(l1)-2)):\n",
    "        for j in range(x+1,(len(l1)-1)):\n",
    "            for k in range(j+1,len(l1)):\n",
    "                if l1[x]+l1[j]+l1[k]==find:\n",
    "                    count=count+1\n",
    "    return count\n",
    "\n",
    "\n",
    "li1=[1,2,3,4,5,5,6,7,8,8]  \n",
    "count=TripletSum(li1,10)\n",
    "print(count)"
   ]
  },
  {
   "cell_type": "markdown",
   "id": "e770dee2",
   "metadata": {},
   "source": [
    "Sort O and 1"
   ]
  },
  {
   "cell_type": "code",
   "execution_count": 57,
   "id": "3aba440b",
   "metadata": {},
   "outputs": [
    {
     "name": "stdout",
     "output_type": "stream",
     "text": [
      "[0, 0, 0, 0, 0, 1, 1, 1, 1, 1] "
     ]
    }
   ],
   "source": [
    "def sort_0_1(arr):\n",
    "    count=0\n",
    "    for x in arr:\n",
    "        if x==0:\n",
    "            count=count+1\n",
    "    for i in range(count):\n",
    "        arr[i]=0\n",
    "    for i in range(count,len(arr)):\n",
    "        arr[i]=1\n",
    "    return arr\n",
    "\n",
    "li=[0,1,0,1,0,1,0,1,1,0]\n",
    "sort_0_1(li)\n",
    "print(li,end=\" \")\n",
    "\n"
   ]
  },
  {
   "cell_type": "code",
   "execution_count": null,
   "id": "23506cc7",
   "metadata": {},
   "outputs": [],
   "source": []
  },
  {
   "cell_type": "code",
   "execution_count": null,
   "id": "8e412733",
   "metadata": {},
   "outputs": [],
   "source": []
  }
 ],
 "metadata": {
  "kernelspec": {
   "display_name": "Python 3",
   "language": "python",
   "name": "python3"
  },
  "language_info": {
   "codemirror_mode": {
    "name": "ipython",
    "version": 3
   },
   "file_extension": ".py",
   "mimetype": "text/x-python",
   "name": "python",
   "nbconvert_exporter": "python",
   "pygments_lexer": "ipython3",
   "version": "3.7.7"
  }
 },
 "nbformat": 4,
 "nbformat_minor": 5
}
